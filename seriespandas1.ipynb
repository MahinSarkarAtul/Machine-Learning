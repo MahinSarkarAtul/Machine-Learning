{
 "cells": [
  {
   "cell_type": "code",
   "execution_count": 1,
   "id": "e5dceb6d-771a-4617-8fef-2ea90cb6e7e4",
   "metadata": {},
   "outputs": [
    {
     "name": "stdout",
     "output_type": "stream",
     "text": [
      "a    3.0\n",
      "b    4.0\n",
      "h    5.0\n",
      "a    6.0\n",
      "a    7.0\n",
      "dtype: float64\n",
      "<class 'pandas.core.series.Series'>\n",
      "a    3.0\n",
      "a    6.0\n",
      "a    7.0\n",
      "dtype: float64\n"
     ]
    }
   ],
   "source": [
    "#IMPORT LIBRARY\n",
    "import pandas as pd\n",
    "x=[3,4,5,6,7]\n",
    "var=pd.Series(x, index=['a','b','h','a','a'], dtype=\"float\")\n",
    "print(var)\n",
    "print (type(var))\n",
    "print (var ['a'])"
   ]
  },
  {
   "cell_type": "code",
   "execution_count": 17,
   "id": "eafbfc2c-22c6-4f01-9b85-b493bf7219da",
   "metadata": {},
   "outputs": [
    {
     "name": "stdout",
     "output_type": "stream",
     "text": [
      "Name          [Python, C, C++, Java]\n",
      "Popularity              [1, 2, 3, 4]\n",
      "Rank                    [1, 2, 3, 4]\n",
      "dtype: object\n"
     ]
    }
   ],
   "source": [
    "dic={\"Name\":['Python','C','C++','Java'],\"Popularity\":[1,2,3,4],\"Rank\":[1,2,3,4]}\n",
    "var1=pd.Series(dic)\n",
    "print (var1)"
   ]
  },
  {
   "cell_type": "code",
   "execution_count": 24,
   "id": "a500f8da-85fc-48d3-ab25-5438a3b415df",
   "metadata": {},
   "outputs": [
    {
     "name": "stdout",
     "output_type": "stream",
     "text": [
      "1    24.0\n",
      "2    24.0\n",
      "3    24.0\n",
      "4    24.0\n",
      "5     NaN\n",
      "6     NaN\n",
      "7     NaN\n",
      "dtype: float64\n"
     ]
    }
   ],
   "source": [
    "se=pd.Series(12,index=[1,2,3,4,5,6,7])\n",
    "se1=pd.Series(12,index=[1,2,3,4])\n",
    "print (se+se1)"
   ]
  },
  {
   "cell_type": "code",
   "execution_count": 2,
   "id": "623eb655-663c-44fd-ad45-73f342d68128",
   "metadata": {},
   "outputs": [
    {
     "name": "stdout",
     "output_type": "stream",
     "text": [
      "1    12\n",
      "2    12\n",
      "3    12\n",
      "4    12\n",
      "5    12\n",
      "6    12\n",
      "7    12\n",
      "dtype: int64\n"
     ]
    }
   ],
   "source": [
    "se=pd.Series(12,index=[1,2,3,4,5,6,7])\n",
    "print (se)"
   ]
  },
  {
   "cell_type": "code",
   "execution_count": 3,
   "id": "d1ee947f-2158-455d-b6f9-bef398bfaaf8",
   "metadata": {},
   "outputs": [
    {
     "name": "stdout",
     "output_type": "stream",
     "text": [
      "0    1\n",
      "1    2\n",
      "2    3\n",
      "3    4\n",
      "dtype: int64\n"
     ]
    }
   ],
   "source": [
    "se=pd.Series([1,2,3,4])\n",
    "print (se)"
   ]
  }
 ],
 "metadata": {
  "kernelspec": {
   "display_name": "Python 3 (ipykernel)",
   "language": "python",
   "name": "python3"
  },
  "language_info": {
   "codemirror_mode": {
    "name": "ipython",
    "version": 3
   },
   "file_extension": ".py",
   "mimetype": "text/x-python",
   "name": "python",
   "nbconvert_exporter": "python",
   "pygments_lexer": "ipython3",
   "version": "3.12.4"
  }
 },
 "nbformat": 4,
 "nbformat_minor": 5
}
