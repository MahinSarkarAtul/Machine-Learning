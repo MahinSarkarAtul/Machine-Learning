{
 "cells": [
  {
   "cell_type": "code",
   "execution_count": 1,
   "id": "de261fb3-e6da-4582-9bdf-74bda4a392d0",
   "metadata": {},
   "outputs": [
    {
     "name": "stdout",
     "output_type": "stream",
     "text": [
      "<class 'pandas.core.frame.DataFrame'>\n"
     ]
    }
   ],
   "source": [
    "import pandas as pd\n",
    "l=[1,2,3,4,5,6,7]\n",
    "var=pd.DataFrame(l)\n",
    "print(type(var))"
   ]
  },
  {
   "cell_type": "code",
   "execution_count": 6,
   "id": "d89554ed-83fc-41fe-99be-ad33f449566c",
   "metadata": {},
   "outputs": [
    {
     "name": "stdout",
     "output_type": "stream",
     "text": [
      "     Name  Popularity  Rank\n",
      "0  Python           1     1\n",
      "1       C           2     2\n",
      "2     C++           3     3\n",
      "3    Java           4     4\n"
     ]
    }
   ],
   "source": [
    "dic={\"Name\":['Python','C','C++','Java'],\"Popularity\":[1,2,3,4],\"Rank\":[1,2,3,4]}\n",
    "var1=pd.DataFrame(dic)\n",
    "print (var1)"
   ]
  },
  {
   "cell_type": "code",
   "execution_count": 15,
   "id": "d1ea59ad-45f7-4d3c-ab81-1b0d50da2cc5",
   "metadata": {},
   "outputs": [
    {
     "name": "stdout",
     "output_type": "stream",
     "text": [
      "   a  b  c  d\n",
      "a  1  1  1  1\n",
      "b  2  2  2  2\n",
      "c  3  3  3  3\n",
      "d  4  4  4  4\n",
      "e  a  5  5  5\n"
     ]
    }
   ],
   "source": [
    "d={\"a\":[1,2,3,4,'a'],\"b\":[1,2,3,4,5],\"c\":[1,2,3,4,5],\"d\":[1,2,3,4,5]}\n",
    "v=pd.DataFrame(d,index=[\"a\",\"b\",\"c\",\"d\",\"e\"])\n",
    "\n",
    "print (v [\"a\"][\"e\"])"
   ]
  },
  {
   "cell_type": "code",
   "execution_count": 4,
   "id": "e094e757-a9c4-46b6-b675-1557201f2f42",
   "metadata": {},
   "outputs": [
    {
     "name": "stdout",
     "output_type": "stream",
     "text": [
      "   0  1  2   3  4\n",
      "0  1  2  3   4  5\n",
      "1  6  7  8  89  9\n"
     ]
    }
   ],
   "source": [
    "li=[[1,2,3,4,5],[6,7,8,89,9]]\n",
    "v=pd.DataFrame(li)\n",
    "\n",
    "print (v)"
   ]
  },
  {
   "cell_type": "code",
   "execution_count": 19,
   "id": "a0bf9f62-5a0b-4e24-917c-238d05ef79b9",
   "metadata": {},
   "outputs": [
    {
     "name": "stdout",
     "output_type": "stream",
     "text": [
      "   a  b\n",
      "0  1  1\n",
      "1  2  2\n",
      "2  3  3\n",
      "3  4  4\n",
      "4  5  5\n"
     ]
    }
   ],
   "source": [
    "sr={\"a\":pd.Series([1,2,3,4,5]), \"b\":pd.Series([1,2,3,4,5])}\n",
    "v=pd.DataFrame(sr)\n",
    "print(v)"
   ]
  },
  {
   "cell_type": "code",
   "execution_count": null,
   "id": "1c9b0975-a282-487e-ad3d-997a1ac11dc3",
   "metadata": {},
   "outputs": [],
   "source": []
  }
 ],
 "metadata": {
  "kernelspec": {
   "display_name": "Python 3 (ipykernel)",
   "language": "python",
   "name": "python3"
  },
  "language_info": {
   "codemirror_mode": {
    "name": "ipython",
    "version": 3
   },
   "file_extension": ".py",
   "mimetype": "text/x-python",
   "name": "python",
   "nbconvert_exporter": "python",
   "pygments_lexer": "ipython3",
   "version": "3.12.4"
  }
 },
 "nbformat": 4,
 "nbformat_minor": 5
}
